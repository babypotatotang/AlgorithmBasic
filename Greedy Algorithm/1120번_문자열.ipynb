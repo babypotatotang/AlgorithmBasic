{
  "nbformat": 4,
  "nbformat_minor": 0,
  "metadata": {
    "colab": {
      "private_outputs": true,
      "provenance": [],
      "authorship_tag": "ABX9TyPH/kZBjHeYXYP7A/31b4vq",
      "include_colab_link": true
    },
    "kernelspec": {
      "name": "python3",
      "display_name": "Python 3"
    },
    "language_info": {
      "name": "python"
    }
  },
  "cells": [
    {
      "cell_type": "markdown",
      "metadata": {
        "id": "view-in-github",
        "colab_type": "text"
      },
      "source": [
        "<a href=\"https://colab.research.google.com/github/babypotatotang/AlgorithmBasic/blob/main/Greedy%20Algorithm/1120%EB%B2%88_%EB%AC%B8%EC%9E%90%EC%97%B4.ipynb\" target=\"_parent\"><img src=\"https://colab.research.google.com/assets/colab-badge.svg\" alt=\"Open In Colab\"/></a>"
      ]
    },
    {
      "cell_type": "code",
      "execution_count": null,
      "metadata": {
        "id": "RQaqzaDOFL5K"
      },
      "outputs": [],
      "source": [
        "A,B = input().split()\n",
        "ans = []\n",
        "\n",
        "for i in range(len(B) - len(A) + 1):\n",
        "    count = 0 \n",
        "    for j in range(len(A)):\n",
        "        if A[j] != B[i+j]:\n",
        "            count+=1\n",
        "    ans.append(count)\n",
        "\n",
        "print(min(ans))"
      ]
    }
  ]
}