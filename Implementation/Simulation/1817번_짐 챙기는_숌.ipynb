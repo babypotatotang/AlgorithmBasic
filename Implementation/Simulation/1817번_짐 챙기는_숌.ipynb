{
  "nbformat": 4,
  "nbformat_minor": 0,
  "metadata": {
    "colab": {
      "private_outputs": true,
      "provenance": [],
      "authorship_tag": "ABX9TyMpYZF+KkPNUzb5tWGply/p",
      "include_colab_link": true
    },
    "kernelspec": {
      "name": "python3",
      "display_name": "Python 3"
    },
    "language_info": {
      "name": "python"
    }
  },
  "cells": [
    {
      "cell_type": "markdown",
      "metadata": {
        "id": "view-in-github",
        "colab_type": "text"
      },
      "source": [
        "<a href=\"https://colab.research.google.com/github/babypotatotang/AlgorithmBasic/blob/main/Implementation/Simulation/1817%EB%B2%88_%EC%A7%90%20%EC%B1%99%EA%B8%B0%EB%8A%94_%EC%88%8C.ipynb\" target=\"_parent\"><img src=\"https://colab.research.google.com/assets/colab-badge.svg\" alt=\"Open In Colab\"/></a>"
      ]
    },
    {
      "cell_type": "code",
      "execution_count": null,
      "metadata": {
        "id": "gw0pxIyIIq3e"
      },
      "outputs": [],
      "source": [
        "N, M = map(int,input().split())\n",
        "if N == 0 :\n",
        "    print(0)\n",
        "else: \n",
        "    books = list(map(int,input().split()))\n",
        "\n",
        "    result = 0; weight = 0\n",
        "\n",
        "    for i in range(N-1, -1, -1):\n",
        "        weight += books[i]\n",
        "\n",
        "        if weight > M:\n",
        "            result +=1 \n",
        "            weight = books[i]\n",
        "\n",
        "    print(result+1)"
      ]
    }
  ]
}