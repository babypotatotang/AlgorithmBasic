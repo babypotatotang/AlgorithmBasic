{
  "nbformat": 4,
  "nbformat_minor": 0,
  "metadata": {
    "colab": {
      "private_outputs": true,
      "provenance": [],
      "authorship_tag": "ABX9TyP8g/3dY4Dq2fUcqdYCWjku",
      "include_colab_link": true
    },
    "kernelspec": {
      "name": "python3",
      "display_name": "Python 3"
    },
    "language_info": {
      "name": "python"
    }
  },
  "cells": [
    {
      "cell_type": "markdown",
      "metadata": {
        "id": "view-in-github",
        "colab_type": "text"
      },
      "source": [
        "<a href=\"https://colab.research.google.com/github/babypotatotang/AlgorithmBasic/blob/main/Implementation/Brute%20Force/1418%EB%B2%88_K-%EC%84%B8%EC%A4%80%EC%88%98.ipynb\" target=\"_parent\"><img src=\"https://colab.research.google.com/assets/colab-badge.svg\" alt=\"Open In Colab\"/></a>"
      ]
    },
    {
      "cell_type": "code",
      "execution_count": null,
      "metadata": {
        "id": "gw0pxIyIIq3e"
      },
      "outputs": [],
      "source": [
        "N = int(input())\n",
        "K = int(input())\n",
        "\n",
        "S = [0 for _ in range(N+1)]\n",
        "\n",
        "for i in range(2, N+1):\n",
        "    if S[i] == 0 :\n",
        "        for t in range(i, N+1, i):\n",
        "            if t % i == 0:\n",
        "                S[t] = max(S[t], i)\n",
        "\n",
        "res = 0 \n",
        "for i in S: \n",
        "    if i<=K: res+=1\n",
        "\n",
        "print(res-1)"
      ]
    }
  ]
}