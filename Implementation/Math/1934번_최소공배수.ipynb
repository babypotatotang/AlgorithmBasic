{
  "nbformat": 4,
  "nbformat_minor": 0,
  "metadata": {
    "colab": {
      "private_outputs": true,
      "provenance": [],
      "authorship_tag": "ABX9TyMOSVXwyjxwAjCfSIhdP1b4",
      "include_colab_link": true
    },
    "kernelspec": {
      "name": "python3",
      "display_name": "Python 3"
    },
    "language_info": {
      "name": "python"
    }
  },
  "cells": [
    {
      "cell_type": "markdown",
      "metadata": {
        "id": "view-in-github",
        "colab_type": "text"
      },
      "source": [
        "<a href=\"https://colab.research.google.com/github/babypotatotang/AlgorithmBasic/blob/main/Implementation/Math/1934%EB%B2%88_%EC%B5%9C%EC%86%8C%EA%B3%B5%EB%B0%B0%EC%88%98.ipynb\" target=\"_parent\"><img src=\"https://colab.research.google.com/assets/colab-badge.svg\" alt=\"Open In Colab\"/></a>"
      ]
    },
    {
      "cell_type": "code",
      "execution_count": null,
      "metadata": {
        "id": "_iJWbprt0nGg"
      },
      "outputs": [],
      "source": [
        "# 최소 공배수: (a*b) / gcd(a,b)\n",
        "from math import gcd\n",
        "\n",
        "N = int(input())\n",
        "\n",
        "for _ in range(N):\n",
        "    a, b = map(int,input().split())\n",
        "    print((a*b)//gcd(a,b))"
      ]
    }
  ]
}